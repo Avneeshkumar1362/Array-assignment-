{
 "cells": [
  {
   "cell_type": "markdown",
   "id": "f0382782-a97e-4bd1-a2fc-800f1eda28a7",
   "metadata": {},
   "source": [
    "# ***Arrays Assignment Questions:-***"
   ]
  },
  {
   "cell_type": "markdown",
   "id": "1354e93a-b5aa-4c1b-8656-09dd4b6751e6",
   "metadata": {},
   "source": [
    "### 1. Given an array, check if it contains any duplicates or not.\n",
    "### arr = [1, 2, 4, 2, 5, 9]\n",
    "### Output = True"
   ]
  },
  {
   "cell_type": "code",
   "execution_count": 108,
   "id": "69c20dc2-b4ac-439f-97f9-10b076889696",
   "metadata": {},
   "outputs": [],
   "source": [
    "## time complexcity: O(1)\n",
    "## space complexcity:O(1)\n",
    "\n",
    "arr = [1,2, 4, 2, 5, 9]\n",
    "## we crate the function \n",
    "def duplicate (arr):\n",
    "          \n",
    "        ## convert the value of arr into set b/c set always remove the duplictar=te data.\n",
    "        new_value = set(arr)  \n",
    "         \n",
    "            ## lenghth of new_value is not equal to the length of arr then it will false \n",
    "        if len(new_value) == len(arr):  \n",
    "            return 'false'  \n",
    "        else:  \n",
    "            return 'true'  "
   ]
  },
  {
   "cell_type": "code",
   "execution_count": 105,
   "id": "91720676-4427-4451-941f-e3f7b003ab6a",
   "metadata": {},
   "outputs": [
    {
     "data": {
      "text/plain": [
       "'true'"
      ]
     },
     "execution_count": 105,
     "metadata": {},
     "output_type": "execute_result"
    }
   ],
   "source": [
    "duplicate(arr)"
   ]
  },
  {
   "cell_type": "markdown",
   "id": "1b31ec21-aff4-4182-928c-48c135b7608f",
   "metadata": {},
   "source": [
    " ### 2. Given an array and an integer k, rotate the array to the right by k steps.\n",
    " ### arr = [1, 2, 3, 4, 5, 6, 7] k = 3\n",
    " ### Output = [5, 6, 7, 1, 2, 3, 4]"
   ]
  },
  {
   "cell_type": "code",
   "execution_count": 117,
   "id": "b0c5b31f-f143-4ed8-a3b9-94c34c1e442a",
   "metadata": {},
   "outputs": [
    {
     "ename": "SyntaxError",
     "evalue": "'return' outside function (1916772663.py, line 6)",
     "output_type": "error",
     "traceback": [
      "\u001b[0;36m  Cell \u001b[0;32mIn[117], line 6\u001b[0;36m\u001b[0m\n\u001b[0;31m    return largest\u001b[0m\n\u001b[0m    ^\u001b[0m\n\u001b[0;31mSyntaxError\u001b[0m\u001b[0;31m:\u001b[0m 'return' outside function\n"
     ]
    }
   ],
   "source": []
  },
  {
   "cell_type": "code",
   "execution_count": null,
   "id": "8fb31079-f1f3-417a-98f4-3f1d4648c9d0",
   "metadata": {},
   "outputs": [],
   "source": [
    "\n"
   ]
  },
  {
   "cell_type": "markdown",
   "id": "f0e963c9-ad7a-47d8-9020-3f54fa49f158",
   "metadata": {},
   "source": [
    "### 3. Reverse the given array in-place, means without using any extra data structure.\n",
    "### arr = [2, 4, 5, 7, 9, 12]\n",
    "### Output = [12, 9, 7, 5, 4, 2]"
   ]
  },
  {
   "cell_type": "code",
   "execution_count": 32,
   "id": "d4ad6dd0-73c6-403f-97b5-4ba2c1916426",
   "metadata": {},
   "outputs": [],
   "source": [
    "## time complexcity: O(1)\n",
    "## space complexcity:O(1)\n",
    "\n",
    "arr = [2, 4, 5, 7, 9, 12]\n",
    "\n",
    " ## we use the concept of slicing.\n",
    "reverse=arr[::-1]"
   ]
  },
  {
   "cell_type": "code",
   "execution_count": 26,
   "id": "006a0cfb-750e-408e-a11a-7570ef6e3183",
   "metadata": {},
   "outputs": [
    {
     "data": {
      "text/plain": [
       "[12, 9, 7, 5, 4, 2]"
      ]
     },
     "execution_count": 26,
     "metadata": {},
     "output_type": "execute_result"
    }
   ],
   "source": [
    "## we excutute the reverse variable.\n",
    "reverse"
   ]
  },
  {
   "cell_type": "markdown",
   "id": "127e5721-ac8f-40cf-b00b-0b83a3444393",
   "metadata": {},
   "source": [
    "### 4. Given an array of integers, find the maximum element in an array\n",
    "### arr = [10, 5, 20, 8, 15]\n",
    "### Output = 20"
   ]
  },
  {
   "cell_type": "code",
   "execution_count": 33,
   "id": "90e61242-e896-4dae-a505-ece270161970",
   "metadata": {},
   "outputs": [
    {
     "name": "stdout",
     "output_type": "stream",
     "text": [
      "Maximum element in this array is: 20\n"
     ]
    }
   ],
   "source": [
    "## time complexcity: O(1)\n",
    "## space complexcity:O(1)\n",
    "\n",
    "arr = [10, 5, 20, 8, 15]\n",
    "\n",
    "## use the max function to find the maximum element from the arr\n",
    "maximum_element=max(arr)\n",
    "\n",
    "print(\"Maximum element in this array is:\",maximum_element)"
   ]
  },
  {
   "cell_type": "markdown",
   "id": "256b7383-ca00-4942-a232-7dc24c8e10ad",
   "metadata": {},
   "source": [
    "### 5. Given a sorted array, remove the duplicate element without using any extra data structure.\n",
    "### arr = [1, 1, 2, 2, 2, 3, 3, 4, 4, 4, 5, 5]\n",
    "### Output = [1, 2, 3, 4, 5]"
   ]
  },
  {
   "cell_type": "code",
   "execution_count": 48,
   "id": "9ac09e50-3212-47ab-8f8f-5becb3cb5cbe",
   "metadata": {},
   "outputs": [
    {
     "name": "stdout",
     "output_type": "stream",
     "text": [
      "after removing the duplicate data: [1, 2, 3, 4, 5]\n"
     ]
    }
   ],
   "source": [
    "## time complexcity: O(1)\n",
    "## space complexcity:O(1)\n",
    "\n",
    "\n",
    "arr = [1, 1, 2, 2, 2, 3, 3, 4, 4, 4, 5, 5]\n",
    "# convert the data list set because set always remove the duplictae of the data.\n",
    "\n",
    "list_to_set=set(arr)\n",
    "# convert the data after removing the duplicate in original form.\n",
    "remove_data=list(list_to_set)\n",
    "print(\"after removing the duplicate data:\",remove_data)"
   ]
  },
  {
   "cell_type": "code",
   "execution_count": null,
   "id": "8fbacd86-0291-4719-a0cd-2f1ab2f09678",
   "metadata": {},
   "outputs": [],
   "source": []
  }
 ],
 "metadata": {
  "kernelspec": {
   "display_name": "Python 3 (ipykernel)",
   "language": "python",
   "name": "python3"
  },
  "language_info": {
   "codemirror_mode": {
    "name": "ipython",
    "version": 3
   },
   "file_extension": ".py",
   "mimetype": "text/x-python",
   "name": "python",
   "nbconvert_exporter": "python",
   "pygments_lexer": "ipython3",
   "version": "3.10.8"
  }
 },
 "nbformat": 4,
 "nbformat_minor": 5
}
